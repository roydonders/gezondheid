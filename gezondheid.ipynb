{
 "cells": [
  {
   "cell_type": "markdown",
   "id": "c318c88f-e4bc-45ed-85e3-acc99a2e1f0a",
   "metadata": {},
   "source": [
    "### Preparation\n",
    "First, make sure to install the python libraries listed in <b>requirements.txt</b> and to place the emergency calls data file in <b>current folder + \"data/112_calls_data.csv\"</b> (it is too large to add to git so you need to store it locally)"
   ]
  },
  {
   "cell_type": "code",
   "execution_count": 1,
   "id": "f7f0c291",
   "metadata": {},
   "outputs": [
    {
     "name": "stdout",
     "output_type": "stream",
     "text": [
      "geopandas, dtale, scikit-learn, pandas-profiling\n"
     ]
    }
   ],
   "source": [
    "f = open('requirements.txt', 'r')\n",
    "print(f.read())"
   ]
  },
  {
   "cell_type": "markdown",
   "id": "f1be8fb7",
   "metadata": {},
   "source": [
    "Next, import the packages we use in this notebook"
   ]
  },
  {
   "cell_type": "code",
   "execution_count": 2,
   "id": "fd7e2109",
   "metadata": {},
   "outputs": [
    {
     "name": "stderr",
     "output_type": "stream",
     "text": [
      "C:\\Users\\marno\\Anaconda3\\envs\\EPA1316\\lib\\site-packages\\geopandas\\_compat.py:112: UserWarning: The Shapely GEOS version (3.11.0-CAPI-1.17.0) is incompatible with the GEOS version PyGEOS was compiled with (3.10.3-CAPI-1.16.1). Conversions between both will be slow.\n",
      "  warnings.warn(\n"
     ]
    }
   ],
   "source": [
    "import pandas as pd\n",
    "import numpy as np\n",
    "import matplotlib.pyplot as plt\n",
    "import geopandas as gpd\n",
    "import palettable as pltt\n",
    "import seaborn as sns\n",
    "from sklearn import preprocessing\n",
    "import random\n",
    "import sys\n",
    "import dtale\n",
    "import pandas_profiling as pp # !conda install --yes --prefix {sys.prefix} pandas-profiling"
   ]
  },
  {
   "cell_type": "markdown",
   "id": "0258f550",
   "metadata": {},
   "source": [
    "# Load, clean and rename data"
   ]
  },
  {
   "cell_type": "markdown",
   "id": "e29dbdbb",
   "metadata": {},
   "source": [
    "## 1. Emergency calls data\n",
    "For explanation of features, <a href=\"https://cusp.tbm.tudelft.nl/courses/epa1316/project/project-02.pdf\"> click here </a>"
   ]
  },
  {
   "cell_type": "code",
   "execution_count": 10,
   "id": "6ce2b5ce",
   "metadata": {},
   "outputs": [
    {
     "name": "stdout",
     "output_type": "stream",
     "text": [
      "CPU times: total: 1min 26s\n",
      "Wall time: 1min 39s\n"
     ]
    }
   ],
   "source": [
    "# Load 112_calls_data.csv\n",
    "%time em_calls = pd.read_csv(\"data/112_calls_data.csv\", sep = \",\")"
   ]
  },
  {
   "cell_type": "code",
   "execution_count": 11,
   "id": "85060f86",
   "metadata": {},
   "outputs": [
    {
     "name": "stdout",
     "output_type": "stream",
     "text": [
      "3326 different cities\n",
      "404 different municipalities\n"
     ]
    },
    {
     "data": {
      "text/plain": [
       "(4775504, 31)"
      ]
     },
     "execution_count": 11,
     "metadata": {},
     "output_type": "execute_result"
    }
   ],
   "source": [
    "print('{} different cities'.format(len(em_calls['wplNam'].unique())))\n",
    "print('{} different municipalities'.format(len(em_calls['gemName'].unique())))\n",
    "em_calls.shape"
   ]
  },
  {
   "cell_type": "code",
   "execution_count": 18,
   "id": "bc076249",
   "metadata": {},
   "outputs": [
    {
     "name": "stdout",
     "output_type": "stream",
     "text": [
      "For The Hague:\n",
      "\n",
      "(251719, 31)\n",
      "\n",
      "priority\tcount\n",
      "1\t\t120735\n",
      "2\t\t127659\n",
      "\\N\t\t2967\n",
      "4\t\t312\n",
      "3\t\t46\n"
     ]
    },
    {
     "data": {
      "text/html": [
       "<div>\n",
       "<style scoped>\n",
       "    .dataframe tbody tr th:only-of-type {\n",
       "        vertical-align: middle;\n",
       "    }\n",
       "\n",
       "    .dataframe tbody tr th {\n",
       "        vertical-align: top;\n",
       "    }\n",
       "\n",
       "    .dataframe thead th {\n",
       "        text-align: right;\n",
       "    }\n",
       "</style>\n",
       "<table border=\"1\" class=\"dataframe\">\n",
       "  <thead>\n",
       "    <tr style=\"text-align: right;\">\n",
       "      <th></th>\n",
       "      <th>pmeId</th>\n",
       "      <th>pmeTimeStamp</th>\n",
       "      <th>pmeProtocol1</th>\n",
       "      <th>pmeProtocol2</th>\n",
       "      <th>pmeTarget</th>\n",
       "      <th>pmeMessage</th>\n",
       "      <th>pmePrio</th>\n",
       "      <th>pmePrioLevel</th>\n",
       "      <th>pmeDienst</th>\n",
       "      <th>pmeStrippedMessage</th>\n",
       "      <th>...</th>\n",
       "      <th>pme_strId</th>\n",
       "      <th>pme_wplId</th>\n",
       "      <th>pme_gemId</th>\n",
       "      <th>pme_proId</th>\n",
       "      <th>pme_vrgId</th>\n",
       "      <th>pmeCapCodes</th>\n",
       "      <th>pmeLifeLiner</th>\n",
       "      <th>pme_catId</th>\n",
       "      <th>wplNam</th>\n",
       "      <th>gemName</th>\n",
       "    </tr>\n",
       "  </thead>\n",
       "  <tbody>\n",
       "    <tr>\n",
       "      <th>3</th>\n",
       "      <td>12284702</td>\n",
       "      <td>2017-01-01 00:00:37</td>\n",
       "      <td>FLEX-A</td>\n",
       "      <td>1600</td>\n",
       "      <td>AORG</td>\n",
       "      <td>A1 Goudsbloemlaan 71-79 DHG 2565CP : 15101 Rit...</td>\n",
       "      <td>A1</td>\n",
       "      <td>1</td>\n",
       "      <td>A</td>\n",
       "      <td>15101 Ritnummer: 1</td>\n",
       "      <td>...</td>\n",
       "      <td>199928</td>\n",
       "      <td>4896</td>\n",
       "      <td>391</td>\n",
       "      <td>12</td>\n",
       "      <td>5170</td>\n",
       "      <td>1520001</td>\n",
       "      <td>\\N</td>\n",
       "      <td>\\N</td>\n",
       "      <td>Den Haag</td>\n",
       "      <td>Den Haag</td>\n",
       "    </tr>\n",
       "    <tr>\n",
       "      <th>31</th>\n",
       "      <td>12284730</td>\n",
       "      <td>2017-01-01 00:04:52</td>\n",
       "      <td>FLEX-A</td>\n",
       "      <td>1600</td>\n",
       "      <td>AORG</td>\n",
       "      <td>P 1 Buitenbrand afval/rommel Drebbelstraat DHG...</td>\n",
       "      <td>P 1</td>\n",
       "      <td>1</td>\n",
       "      <td>B</td>\n",
       "      <td>Buitenbrand afval/rommel 7630</td>\n",
       "      <td>...</td>\n",
       "      <td>199712</td>\n",
       "      <td>4896</td>\n",
       "      <td>391</td>\n",
       "      <td>12</td>\n",
       "      <td>5170</td>\n",
       "      <td>1500148,1500632,1503902,2029568</td>\n",
       "      <td>\\N</td>\n",
       "      <td>\\N</td>\n",
       "      <td>Den Haag</td>\n",
       "      <td>Den Haag</td>\n",
       "    </tr>\n",
       "  </tbody>\n",
       "</table>\n",
       "<p>2 rows × 31 columns</p>\n",
       "</div>"
      ],
      "text/plain": [
       "       pmeId         pmeTimeStamp pmeProtocol1  pmeProtocol2 pmeTarget  \\\n",
       "3   12284702  2017-01-01 00:00:37       FLEX-A          1600      AORG   \n",
       "31  12284730  2017-01-01 00:04:52       FLEX-A          1600      AORG   \n",
       "\n",
       "                                           pmeMessage pmePrio pmePrioLevel  \\\n",
       "3   A1 Goudsbloemlaan 71-79 DHG 2565CP : 15101 Rit...      A1            1   \n",
       "31  P 1 Buitenbrand afval/rommel Drebbelstraat DHG...     P 1            1   \n",
       "\n",
       "   pmeDienst             pmeStrippedMessage  ... pme_strId pme_wplId  \\\n",
       "3          A             15101 Ritnummer: 1  ...    199928      4896   \n",
       "31         B  Buitenbrand afval/rommel 7630  ...    199712      4896   \n",
       "\n",
       "   pme_gemId pme_proId pme_vrgId                      pmeCapCodes  \\\n",
       "3        391        12      5170                          1520001   \n",
       "31       391        12      5170  1500148,1500632,1503902,2029568   \n",
       "\n",
       "   pmeLifeLiner pme_catId    wplNam   gemName  \n",
       "3            \\N        \\N  Den Haag  Den Haag  \n",
       "31           \\N        \\N  Den Haag  Den Haag  \n",
       "\n",
       "[2 rows x 31 columns]"
      ]
     },
     "execution_count": 18,
     "metadata": {},
     "output_type": "execute_result"
    }
   ],
   "source": [
    "th = em_calls[em_calls['wplNam']=='Den Haag'] # the hague\n",
    "print('For The Hague:')\n",
    "print('\\n{}\\n'.format(th.shape))\n",
    "print('priority\\tcount')\n",
    "for prio in th['pmePrioLevel'].unique():\n",
    "    count = len(th[th['pmePrioLevel']==prio])\n",
    "    print('{}\\t\\t{}'.format(prio, count))\n",
    "\n",
    "th.head(2)"
   ]
  },
  {
   "cell_type": "code",
   "execution_count": 16,
   "id": "de72ea53-cd34-4ac6-b52c-70aef5c9f869",
   "metadata": {},
   "outputs": [
    {
     "name": "stderr",
     "output_type": "stream",
     "text": [
      "C:\\Users\\marno\\Anaconda3\\envs\\EPA1316\\lib\\site-packages\\dtale\\views.py:725: FutureWarning:\n",
      "\n",
      "['pmeStrippedMessage'] did not aggregate successfully. If any error is raised this will raise in a future version of pandas. Drop these columns/ops to avoid this warning.\n",
      "\n"
     ]
    },
    {
     "name": "stdout",
     "output_type": "stream",
     "text": [
      "CPU times: total: 8.88 s\n",
      "Wall time: 11.6 s\n"
     ]
    },
    {
     "data": {
      "text/html": [
       "\n",
       "        <iframe\n",
       "            width=\"100%\"\n",
       "            height=\"475\"\n",
       "            src=\"http://DESKTOP-38KESNU:40000/dtale/iframe/3\"\n",
       "            frameborder=\"0\"\n",
       "            allowfullscreen\n",
       "            \n",
       "        ></iframe>\n",
       "        "
      ],
      "text/plain": [
       "<IPython.lib.display.IFrame at 0x2ec5b0aa0a0>"
      ]
     },
     "metadata": {},
     "output_type": "display_data"
    },
    {
     "data": {
      "text/plain": []
     },
     "execution_count": 16,
     "metadata": {},
     "output_type": "execute_result"
    }
   ],
   "source": [
    "%time dtale.show(th)"
   ]
  },
  {
   "cell_type": "markdown",
   "id": "fcc2241c",
   "metadata": {},
   "source": [
    "## 2. The Hague demographic data\n",
    "Find dashboard with these variables <a href=\"https://denhaag.incijfers.nl/Jive?workspace_guid=83bb13aa-9f6f-49ab-ba68-f8fb2ffa2e34\"> here </a>. They all refer to households, not persons, except 65 and older."
   ]
  },
  {
   "cell_type": "code",
   "execution_count": 19,
   "id": "f2b750ed",
   "metadata": {},
   "outputs": [
    {
     "name": "stderr",
     "output_type": "stream",
     "text": [
      "C:\\Users\\marno\\AppData\\Local\\Temp\\ipykernel_22744\\802827697.py:31: FutureWarning:\n",
      "\n",
      "In a future version, `df.iloc[:, i] = newvals` will attempt to set the values inplace instead of always setting a new array. To retain the old behavior, use either `df[df.columns[i]] = newvals` or, if columns are non-unique, `df.isetitem(i, newvals)`\n",
      "\n"
     ]
    },
    {
     "name": "stdout",
     "output_type": "stream",
     "text": [
      "<class 'pandas.core.frame.DataFrame'>\n",
      "Index: 114 entries, 01 Oud Scheveningen to 121 Rietbuurt\n",
      "Data columns (total 10 columns):\n",
      " #   Column                   Non-Null Count  Dtype  \n",
      "---  ------                   --------------  -----  \n",
      " 0   65_older_persons         110 non-null    float64\n",
      " 1   65_older_%               110 non-null    float64\n",
      " 2   medical_fac_rel_area     113 non-null    float64\n",
      " 3   sports_fac_rel_area      113 non-null    float64\n",
      " 4   leisure_fac_rel_area     113 non-null    float64\n",
      " 5   disposable_income_std    106 non-null    float64\n",
      " 6   households_count         111 non-null    float64\n",
      " 7   migration_background_%   111 non-null    object \n",
      " 8   disadvantage_score       102 non-null    object \n",
      " 9   130%_poverty_line_count  111 non-null    float64\n",
      "dtypes: float64(8), object(2)\n",
      "memory usage: 9.8+ KB\n"
     ]
    },
    {
     "data": {
      "text/html": [
       "<div>\n",
       "<style scoped>\n",
       "    .dataframe tbody tr th:only-of-type {\n",
       "        vertical-align: middle;\n",
       "    }\n",
       "\n",
       "    .dataframe tbody tr th {\n",
       "        vertical-align: top;\n",
       "    }\n",
       "\n",
       "    .dataframe thead th {\n",
       "        text-align: right;\n",
       "    }\n",
       "</style>\n",
       "<table border=\"1\" class=\"dataframe\">\n",
       "  <thead>\n",
       "    <tr style=\"text-align: right;\">\n",
       "      <th></th>\n",
       "      <th>65_older_persons</th>\n",
       "      <th>65_older_%</th>\n",
       "      <th>medical_fac_rel_area</th>\n",
       "      <th>sports_fac_rel_area</th>\n",
       "      <th>leisure_fac_rel_area</th>\n",
       "      <th>disposable_income_std</th>\n",
       "      <th>households_count</th>\n",
       "      <th>migration_background_%</th>\n",
       "      <th>disadvantage_score</th>\n",
       "      <th>130%_poverty_line_count</th>\n",
       "    </tr>\n",
       "    <tr>\n",
       "      <th>Neighborhood</th>\n",
       "      <th></th>\n",
       "      <th></th>\n",
       "      <th></th>\n",
       "      <th></th>\n",
       "      <th></th>\n",
       "      <th></th>\n",
       "      <th></th>\n",
       "      <th></th>\n",
       "      <th></th>\n",
       "      <th></th>\n",
       "    </tr>\n",
       "  </thead>\n",
       "  <tbody>\n",
       "    <tr>\n",
       "      <th>01 Oud Scheveningen</th>\n",
       "      <td>551.0</td>\n",
       "      <td>18.6</td>\n",
       "      <td>0.00</td>\n",
       "      <td>0.00</td>\n",
       "      <td>0.01</td>\n",
       "      <td>30700.0</td>\n",
       "      <td>1618.0</td>\n",
       "      <td>26.2</td>\n",
       "      <td>-5.9</td>\n",
       "      <td>300.0</td>\n",
       "    </tr>\n",
       "    <tr>\n",
       "      <th>02 Vissershaven</th>\n",
       "      <td>815.0</td>\n",
       "      <td>18.8</td>\n",
       "      <td>0.00</td>\n",
       "      <td>0.00</td>\n",
       "      <td>0.00</td>\n",
       "      <td>32500.0</td>\n",
       "      <td>2303.0</td>\n",
       "      <td>33.2</td>\n",
       "      <td>-2.9</td>\n",
       "      <td>300.0</td>\n",
       "    </tr>\n",
       "    <tr>\n",
       "      <th>03 Scheveningen Badplaats</th>\n",
       "      <td>972.0</td>\n",
       "      <td>17.3</td>\n",
       "      <td>0.00</td>\n",
       "      <td>0.01</td>\n",
       "      <td>0.01</td>\n",
       "      <td>36700.0</td>\n",
       "      <td>3132.0</td>\n",
       "      <td>37.5</td>\n",
       "      <td>-7.1</td>\n",
       "      <td>200.0</td>\n",
       "    </tr>\n",
       "    <tr>\n",
       "      <th>04 Visserijbuurt</th>\n",
       "      <td>862.0</td>\n",
       "      <td>21.5</td>\n",
       "      <td>0.01</td>\n",
       "      <td>0.00</td>\n",
       "      <td>0.01</td>\n",
       "      <td>30700.0</td>\n",
       "      <td>2072.0</td>\n",
       "      <td>37.2</td>\n",
       "      <td>-4.4</td>\n",
       "      <td>300.0</td>\n",
       "    </tr>\n",
       "    <tr>\n",
       "      <th>05 v Stolkpark/Schev Bosjes</th>\n",
       "      <td>209.0</td>\n",
       "      <td>25.7</td>\n",
       "      <td>0.01</td>\n",
       "      <td>0.00</td>\n",
       "      <td>0.00</td>\n",
       "      <td>75600.0</td>\n",
       "      <td>406.0</td>\n",
       "      <td>47.8</td>\n",
       "      <td>-23.3</td>\n",
       "      <td>0.0</td>\n",
       "    </tr>\n",
       "  </tbody>\n",
       "</table>\n",
       "</div>"
      ],
      "text/plain": [
       "                             65_older_persons  65_older_%  \\\n",
       "Neighborhood                                                \n",
       "01 Oud Scheveningen                     551.0        18.6   \n",
       "02 Vissershaven                         815.0        18.8   \n",
       "03 Scheveningen Badplaats               972.0        17.3   \n",
       "04 Visserijbuurt                        862.0        21.5   \n",
       "05 v Stolkpark/Schev Bosjes             209.0        25.7   \n",
       "\n",
       "                             medical_fac_rel_area  sports_fac_rel_area  \\\n",
       "Neighborhood                                                             \n",
       "01 Oud Scheveningen                          0.00                 0.00   \n",
       "02 Vissershaven                              0.00                 0.00   \n",
       "03 Scheveningen Badplaats                    0.00                 0.01   \n",
       "04 Visserijbuurt                             0.01                 0.00   \n",
       "05 v Stolkpark/Schev Bosjes                  0.01                 0.00   \n",
       "\n",
       "                             leisure_fac_rel_area  disposable_income_std  \\\n",
       "Neighborhood                                                               \n",
       "01 Oud Scheveningen                          0.01                30700.0   \n",
       "02 Vissershaven                              0.00                32500.0   \n",
       "03 Scheveningen Badplaats                    0.01                36700.0   \n",
       "04 Visserijbuurt                             0.01                30700.0   \n",
       "05 v Stolkpark/Schev Bosjes                  0.00                75600.0   \n",
       "\n",
       "                             households_count migration_background_%  \\\n",
       "Neighborhood                                                           \n",
       "01 Oud Scheveningen                    1618.0                   26.2   \n",
       "02 Vissershaven                        2303.0                   33.2   \n",
       "03 Scheveningen Badplaats              3132.0                   37.5   \n",
       "04 Visserijbuurt                       2072.0                   37.2   \n",
       "05 v Stolkpark/Schev Bosjes             406.0                   47.8   \n",
       "\n",
       "                            disadvantage_score  130%_poverty_line_count  \n",
       "Neighborhood                                                             \n",
       "01 Oud Scheveningen                       -5.9                    300.0  \n",
       "02 Vissershaven                           -2.9                    300.0  \n",
       "03 Scheveningen Badplaats                 -7.1                    200.0  \n",
       "04 Visserijbuurt                          -4.4                    300.0  \n",
       "05 v Stolkpark/Schev Bosjes              -23.3                      0.0  "
      ]
     },
     "execution_count": 19,
     "metadata": {},
     "output_type": "execute_result"
    }
   ],
   "source": [
    "# load CBS data per neighborhood\n",
    "data = pd.read_csv(\"data/th_neighborhoods_demographics.csv\", sep = \";\")\n",
    "\n",
    "# drop 'Onbekend'\n",
    "i = data.loc[data['Buurten'] == 'Onbekend'].index\n",
    "data.drop(index=i, inplace=True)\n",
    "\n",
    "# translate column labels\n",
    "dictionary = {'Buurten': 'Neighborhood', \n",
    "        '65 jaar en ouder': '65_older_persons',\n",
    "        \"% 65 jaar en ouder\":'65_older_%',\n",
    "        'Verhouding b.v.o. medische voorzieningen/ totale gebiedsoppervlakte': 'medical_fac_rel_area',\n",
    "        'Verhouding b.v.o. sportvoorzieningen/ totale gebiedsoppervlakte': 'sports_fac_rel_area',\n",
    "        'Verhouding b.v.o. recreatieve voorzieningen/ totale gebiedsoppervlakte': 'leisure_fac_rel_area',\n",
    "        'Gem. besteedbaar gestandaardiseerd part. huishoudens inkomen': 'disposable_income_std',\n",
    "        'Aantal huishoudens': 'households_count',\n",
    "        '% Met migratieachtergrond': 'migration_background_%',\n",
    "        'Gemiddelde achterstandsscore': 'disadvantage_score',\n",
    "        'Totaal doelgroephuishoudens met inkomen tot 130%':'130%_poverty_line_count'}\n",
    "data.rename(columns=dictionary, inplace=True)\n",
    " \n",
    "# set Neighborhood as index\n",
    "data = data.set_index('Neighborhood', drop=True)\n",
    "\n",
    "# make strings numerical\n",
    "data.replace(',', '.', regex=True, inplace=True) # comma -> point\n",
    "data.replace('x', 'NaN', regex=True, inplace=True) # 'x' -> NaN\n",
    "data.replace('-', 'NaN', regex=False, inplace=True) # 'x' -> NaN\n",
    "\n",
    "for i in range(6):\n",
    "    data.iloc[:,i] = data.iloc[:,i].astype(float)\n",
    "\n",
    "# check outcome\n",
    "data.info()\n",
    "data.head(5)"
   ]
  },
  {
   "cell_type": "code",
   "execution_count": 20,
   "id": "c411a9d1",
   "metadata": {},
   "outputs": [
    {
     "data": {
      "text/html": [
       "<div>\n",
       "<style scoped>\n",
       "    .dataframe tbody tr th:only-of-type {\n",
       "        vertical-align: middle;\n",
       "    }\n",
       "\n",
       "    .dataframe tbody tr th {\n",
       "        vertical-align: top;\n",
       "    }\n",
       "\n",
       "    .dataframe thead th {\n",
       "        text-align: right;\n",
       "    }\n",
       "</style>\n",
       "<table border=\"1\" class=\"dataframe\">\n",
       "  <thead>\n",
       "    <tr style=\"text-align: right;\">\n",
       "      <th></th>\n",
       "    </tr>\n",
       "  </thead>\n",
       "  <tbody>\n",
       "  </tbody>\n",
       "</table>\n",
       "</div>"
      ],
      "text/plain": [
       "Empty DataFrame\n",
       "Columns: []\n",
       "Index: []"
      ]
     },
     "execution_count": 20,
     "metadata": {},
     "output_type": "execute_result"
    }
   ],
   "source": [
    "test = gpd.GeoDataFrame()\n",
    "test.head()"
   ]
  }
 ],
 "metadata": {
  "kernelspec": {
   "display_name": "EPA1316",
   "language": "python",
   "name": "epa1316"
  },
  "language_info": {
   "codemirror_mode": {
    "name": "ipython",
    "version": 3
   },
   "file_extension": ".py",
   "mimetype": "text/x-python",
   "name": "python",
   "nbconvert_exporter": "python",
   "pygments_lexer": "ipython3",
   "version": "3.8.13"
  }
 },
 "nbformat": 4,
 "nbformat_minor": 5
}
