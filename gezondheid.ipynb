{
 "cells": [
  {
   "cell_type": "markdown",
   "id": "c318c88f-e4bc-45ed-85e3-acc99a2e1f0a",
   "metadata": {},
   "source": [
    "### Import statements"
   ]
  },
  {
   "cell_type": "code",
   "execution_count": 2,
   "id": "fd7e2109",
   "metadata": {},
   "outputs": [],
   "source": [
    "import pandas as pd\n",
    "import numpy as np\n",
    "import matplotlib.pyplot as plt\n",
    "import geopandas as gpd\n",
    "import palettable as pltt\n",
    "import seaborn as sns\n",
    "from sklearn import preprocessing\n",
    "import random"
   ]
  },
  {
   "cell_type": "code",
   "execution_count": 3,
   "id": "dcc9f24d-7385-490c-badf-3a574337cefa",
   "metadata": {},
   "outputs": [
    {
     "name": "stdout",
     "output_type": "stream",
     "text": [
      "Collecting package metadata (current_repodata.json): ...working... done\n",
      "Solving environment: ...working... done\n",
      "\n",
      "## Package Plan ##\n",
      "\n",
      "  environment location: C:\\Users\\timon\\anaconda3\\envs\\gds\n",
      "\n",
      "  added / updated specs:\n",
      "    - pandas-profiling\n",
      "\n",
      "\n",
      "The following packages will be downloaded:\n",
      "\n",
      "    package                    |            build\n",
      "    ---------------------------|-----------------\n",
      "    ca-certificates-2022.07.19 |       haa95532_0         123 KB\n",
      "    certifi-2022.9.24          |   py39haa95532_0         154 KB\n",
      "    conda-22.9.0               |   py39haa95532_0         888 KB\n",
      "    confuse-1.5.0              |     pyhd3eb1b0_0          23 KB\n",
      "    htmlmin-0.1.12             |     pyhd3eb1b0_1          24 KB\n",
      "    imagehash-4.2.1            |     pyhd3eb1b0_0         285 KB\n",
      "    missingno-0.4.2            |     pyhd3eb1b0_1          15 KB\n",
      "    openssl-1.1.1q             |       h2bbff1b_0         4.8 MB\n",
      "    pandas-profiling-2.9.0     |     pyhd3eb1b0_0         168 KB\n",
      "    phik-0.11.2                |     pyhd3eb1b0_1         538 KB\n",
      "    pywavelets-1.3.0           |   py39h2bbff1b_0         3.5 MB\n",
      "    tangled-up-in-unicode-0.1.0|     pyhd3eb1b0_0         689 KB\n",
      "    visions-0.5.0              |     pyhd3eb1b0_0          45 KB\n",
      "    ------------------------------------------------------------\n",
      "                                           Total:        11.2 MB\n",
      "\n",
      "The following NEW packages will be INSTALLED:\n",
      "\n",
      "  confuse            pkgs/main/noarch::confuse-1.5.0-pyhd3eb1b0_0\n",
      "  htmlmin            pkgs/main/noarch::htmlmin-0.1.12-pyhd3eb1b0_1\n",
      "  imagehash          pkgs/main/noarch::imagehash-4.2.1-pyhd3eb1b0_0\n",
      "  missingno          pkgs/main/noarch::missingno-0.4.2-pyhd3eb1b0_1\n",
      "  pandas-profiling   pkgs/main/noarch::pandas-profiling-2.9.0-pyhd3eb1b0_0\n",
      "  phik               pkgs/main/noarch::phik-0.11.2-pyhd3eb1b0_1\n",
      "  pywavelets         pkgs/main/win-64::pywavelets-1.3.0-py39h2bbff1b_0\n",
      "  tangled-up-in-uni~ pkgs/main/noarch::tangled-up-in-unicode-0.1.0-pyhd3eb1b0_0\n",
      "  visions            pkgs/main/noarch::visions-0.5.0-pyhd3eb1b0_0\n",
      "\n",
      "The following packages will be UPDATED:\n",
      "\n",
      "  certifi            conda-forge/noarch::certifi-2022.9.14~ --> pkgs/main/win-64::certifi-2022.9.24-py39haa95532_0\n",
      "  conda              conda-forge::conda-4.14.0-py39hcbf530~ --> pkgs/main::conda-22.9.0-py39haa95532_0\n",
      "\n",
      "The following packages will be SUPERSEDED by a higher-priority channel:\n",
      "\n",
      "  ca-certificates    conda-forge::ca-certificates-2022.9.1~ --> pkgs/main::ca-certificates-2022.07.19-haa95532_0\n",
      "  openssl            conda-forge::openssl-1.1.1q-h8ffe710_0 --> pkgs/main::openssl-1.1.1q-h2bbff1b_0\n",
      "\n",
      "\n",
      "\n",
      "Downloading and Extracting Packages\n",
      "\n",
      "certifi-2022.9.24    | 154 KB    |            |   0% \n",
      "certifi-2022.9.24    | 154 KB    | ########## | 100% \n",
      "certifi-2022.9.24    | 154 KB    | ########## | 100% \n",
      "\n",
      "pandas-profiling-2.9 | 168 KB    |            |   0% \n",
      "pandas-profiling-2.9 | 168 KB    | 9          |  10% \n",
      "pandas-profiling-2.9 | 168 KB    | ########## | 100% \n",
      "pandas-profiling-2.9 | 168 KB    | ########## | 100% \n",
      "\n",
      "pywavelets-1.3.0     | 3.5 MB    |            |   0% \n",
      "pywavelets-1.3.0     | 3.5 MB    | #6         |  17% \n",
      "pywavelets-1.3.0     | 3.5 MB    | ###5       |  35% \n",
      "pywavelets-1.3.0     | 3.5 MB    | ######6    |  66% \n",
      "pywavelets-1.3.0     | 3.5 MB    | #########5 |  96% \n",
      "pywavelets-1.3.0     | 3.5 MB    | ########## | 100% \n",
      "\n",
      "phik-0.11.2          | 538 KB    |            |   0% \n",
      "phik-0.11.2          | 538 KB    | 2          |   3% \n",
      "phik-0.11.2          | 538 KB    | ########## | 100% \n",
      "phik-0.11.2          | 538 KB    | ########## | 100% \n",
      "\n",
      "conda-22.9.0         | 888 KB    |            |   0% \n",
      "conda-22.9.0         | 888 KB    | ######6    |  67% \n",
      "conda-22.9.0         | 888 KB    | ########## | 100% \n",
      "\n",
      "confuse-1.5.0        | 23 KB     |            |   0% \n",
      "confuse-1.5.0        | 23 KB     | ######9    |  69% \n",
      "confuse-1.5.0        | 23 KB     | ########## | 100% \n",
      "\n",
      "imagehash-4.2.1      | 285 KB    |            |   0% \n",
      "imagehash-4.2.1      | 285 KB    | 5          |   6% \n",
      "imagehash-4.2.1      | 285 KB    | ####4      |  45% \n",
      "imagehash-4.2.1      | 285 KB    | ########## | 100% \n",
      "imagehash-4.2.1      | 285 KB    | ########## | 100% \n",
      "\n",
      "ca-certificates-2022 | 123 KB    |            |   0% \n",
      "ca-certificates-2022 | 123 KB    | ########## | 100% \n",
      "ca-certificates-2022 | 123 KB    | ########## | 100% \n",
      "\n",
      "tangled-up-in-unicod | 689 KB    |            |   0% \n",
      "tangled-up-in-unicod | 689 KB    | 2          |   2% \n",
      "tangled-up-in-unicod | 689 KB    | ##5        |  26% \n",
      "tangled-up-in-unicod | 689 KB    | ####4      |  44% \n",
      "tangled-up-in-unicod | 689 KB    | ########3  |  84% \n",
      "tangled-up-in-unicod | 689 KB    | ########## | 100% \n",
      "\n",
      "openssl-1.1.1q       | 4.8 MB    |            |   0% \n",
      "openssl-1.1.1q       | 4.8 MB    | #1         |  11% \n",
      "openssl-1.1.1q       | 4.8 MB    | ###        |  31% \n",
      "openssl-1.1.1q       | 4.8 MB    | #####1     |  52% \n",
      "openssl-1.1.1q       | 4.8 MB    | #######1   |  71% \n",
      "openssl-1.1.1q       | 4.8 MB    | #########1 |  92% \n",
      "openssl-1.1.1q       | 4.8 MB    | ########## | 100% \n",
      "\n",
      "htmlmin-0.1.12       | 24 KB     |            |   0% \n",
      "htmlmin-0.1.12       | 24 KB     | ######6    |  67% \n",
      "htmlmin-0.1.12       | 24 KB     | ########## | 100% \n",
      "htmlmin-0.1.12       | 24 KB     | ########## | 100% \n",
      "\n",
      "visions-0.5.0        | 45 KB     |            |   0% \n",
      "visions-0.5.0        | 45 KB     | ###5       |  36% \n",
      "visions-0.5.0        | 45 KB     | ########## | 100% \n",
      "visions-0.5.0        | 45 KB     | ########## | 100% \n",
      "\n",
      "missingno-0.4.2      | 15 KB     |            |   0% \n",
      "missingno-0.4.2      | 15 KB     | ########## | 100% \n",
      "missingno-0.4.2      | 15 KB     | ########## | 100% \n",
      "Preparing transaction: ...working... done\n",
      "Verifying transaction: ...working... done\n",
      "Executing transaction: ...working... done\n",
      "Retrieving notices: ...working... done\n"
     ]
    }
   ],
   "source": [
    "# Install a conda package: pandas-profiling in the current Jupyter kernel\n",
    "import sys\n",
    "!conda install --yes --prefix {sys.prefix} pandas-profiling"
   ]
  },
  {
   "cell_type": "code",
   "execution_count": 7,
   "id": "d1965ccd-a188-47a5-bfe3-c3c909d8b4bf",
   "metadata": {},
   "outputs": [
    {
     "ename": "ImportError",
     "evalue": "cannot import name 'ABCIndexClass' from 'pandas.core.dtypes.generic' (C:\\Users\\timon\\anaconda3\\envs\\gds\\lib\\site-packages\\pandas\\core\\dtypes\\generic.py)",
     "output_type": "error",
     "traceback": [
      "\u001b[1;31m---------------------------------------------------------------------------\u001b[0m",
      "\u001b[1;31mImportError\u001b[0m                               Traceback (most recent call last)",
      "Cell \u001b[1;32mIn [7], line 1\u001b[0m\n\u001b[1;32m----> 1\u001b[0m \u001b[38;5;28;01mimport\u001b[39;00m \u001b[38;5;21;01mpandas_profiling\u001b[39;00m \u001b[38;5;28;01mas\u001b[39;00m \u001b[38;5;21;01mpp\u001b[39;00m\n",
      "File \u001b[1;32m~\\anaconda3\\envs\\gds\\lib\\site-packages\\pandas_profiling\\__init__.py:7\u001b[0m\n\u001b[0;32m      1\u001b[0m \u001b[38;5;124;03m\"\"\"Main module of pandas-profiling.\u001b[39;00m\n\u001b[0;32m      2\u001b[0m \n\u001b[0;32m      3\u001b[0m \u001b[38;5;124;03m.. include:: ../../README.md\u001b[39;00m\n\u001b[0;32m      4\u001b[0m \u001b[38;5;124;03m\"\"\"\u001b[39;00m\n\u001b[0;32m      6\u001b[0m \u001b[38;5;28;01mfrom\u001b[39;00m \u001b[38;5;21;01mpandas_profiling\u001b[39;00m\u001b[38;5;21;01m.\u001b[39;00m\u001b[38;5;21;01mconfig\u001b[39;00m \u001b[38;5;28;01mimport\u001b[39;00m Config, config\n\u001b[1;32m----> 7\u001b[0m \u001b[38;5;28;01mfrom\u001b[39;00m \u001b[38;5;21;01mpandas_profiling\u001b[39;00m\u001b[38;5;21;01m.\u001b[39;00m\u001b[38;5;21;01mcontroller\u001b[39;00m \u001b[38;5;28;01mimport\u001b[39;00m pandas_decorator\n\u001b[0;32m      8\u001b[0m \u001b[38;5;28;01mfrom\u001b[39;00m \u001b[38;5;21;01mpandas_profiling\u001b[39;00m\u001b[38;5;21;01m.\u001b[39;00m\u001b[38;5;21;01mprofile_report\u001b[39;00m \u001b[38;5;28;01mimport\u001b[39;00m ProfileReport\n\u001b[0;32m      9\u001b[0m \u001b[38;5;28;01mfrom\u001b[39;00m \u001b[38;5;21;01mpandas_profiling\u001b[39;00m\u001b[38;5;21;01m.\u001b[39;00m\u001b[38;5;21;01mversion\u001b[39;00m \u001b[38;5;28;01mimport\u001b[39;00m __version__\n",
      "File \u001b[1;32m~\\anaconda3\\envs\\gds\\lib\\site-packages\\pandas_profiling\\controller\\pandas_decorator.py:4\u001b[0m\n\u001b[0;32m      1\u001b[0m \u001b[38;5;124;03m\"\"\"This file add the decorator on the DataFrame object.\"\"\"\u001b[39;00m\n\u001b[0;32m      2\u001b[0m \u001b[38;5;28;01mfrom\u001b[39;00m \u001b[38;5;21;01mpandas\u001b[39;00m \u001b[38;5;28;01mimport\u001b[39;00m DataFrame\n\u001b[1;32m----> 4\u001b[0m \u001b[38;5;28;01mfrom\u001b[39;00m \u001b[38;5;21;01mpandas_profiling\u001b[39;00m\u001b[38;5;21;01m.\u001b[39;00m\u001b[38;5;21;01m__init__\u001b[39;00m \u001b[38;5;28;01mimport\u001b[39;00m ProfileReport\n\u001b[0;32m      7\u001b[0m \u001b[38;5;28;01mdef\u001b[39;00m \u001b[38;5;21mprofile_report\u001b[39m(df, \u001b[38;5;241m*\u001b[39m\u001b[38;5;241m*\u001b[39mkwargs) \u001b[38;5;241m-\u001b[39m\u001b[38;5;241m>\u001b[39m ProfileReport:\n\u001b[0;32m      8\u001b[0m     \u001b[38;5;124;03m\"\"\"Profile a DataFrame.\u001b[39;00m\n\u001b[0;32m      9\u001b[0m \n\u001b[0;32m     10\u001b[0m \u001b[38;5;124;03m    Args:\u001b[39;00m\n\u001b[1;32m   (...)\u001b[0m\n\u001b[0;32m     15\u001b[0m \u001b[38;5;124;03m        A ProfileReport of the DataFrame.\u001b[39;00m\n\u001b[0;32m     16\u001b[0m \u001b[38;5;124;03m    \"\"\"\u001b[39;00m\n",
      "File \u001b[1;32m~\\anaconda3\\envs\\gds\\lib\\site-packages\\pandas_profiling\\__init__.py:8\u001b[0m\n\u001b[0;32m      6\u001b[0m \u001b[38;5;28;01mfrom\u001b[39;00m \u001b[38;5;21;01mpandas_profiling\u001b[39;00m\u001b[38;5;21;01m.\u001b[39;00m\u001b[38;5;21;01mconfig\u001b[39;00m \u001b[38;5;28;01mimport\u001b[39;00m Config, config\n\u001b[0;32m      7\u001b[0m \u001b[38;5;28;01mfrom\u001b[39;00m \u001b[38;5;21;01mpandas_profiling\u001b[39;00m\u001b[38;5;21;01m.\u001b[39;00m\u001b[38;5;21;01mcontroller\u001b[39;00m \u001b[38;5;28;01mimport\u001b[39;00m pandas_decorator\n\u001b[1;32m----> 8\u001b[0m \u001b[38;5;28;01mfrom\u001b[39;00m \u001b[38;5;21;01mpandas_profiling\u001b[39;00m\u001b[38;5;21;01m.\u001b[39;00m\u001b[38;5;21;01mprofile_report\u001b[39;00m \u001b[38;5;28;01mimport\u001b[39;00m ProfileReport\n\u001b[0;32m      9\u001b[0m \u001b[38;5;28;01mfrom\u001b[39;00m \u001b[38;5;21;01mpandas_profiling\u001b[39;00m\u001b[38;5;21;01m.\u001b[39;00m\u001b[38;5;21;01mversion\u001b[39;00m \u001b[38;5;28;01mimport\u001b[39;00m __version__\n\u001b[0;32m     11\u001b[0m clear_config \u001b[38;5;241m=\u001b[39m ProfileReport\u001b[38;5;241m.\u001b[39mclear_config\n",
      "File \u001b[1;32m~\\anaconda3\\envs\\gds\\lib\\site-packages\\pandas_profiling\\profile_report.py:11\u001b[0m\n\u001b[0;32m      8\u001b[0m \u001b[38;5;28;01mfrom\u001b[39;00m \u001b[38;5;21;01mtqdm\u001b[39;00m\u001b[38;5;21;01m.\u001b[39;00m\u001b[38;5;21;01mauto\u001b[39;00m \u001b[38;5;28;01mimport\u001b[39;00m tqdm\n\u001b[0;32m     10\u001b[0m \u001b[38;5;28;01mfrom\u001b[39;00m \u001b[38;5;21;01mpandas_profiling\u001b[39;00m\u001b[38;5;21;01m.\u001b[39;00m\u001b[38;5;21;01mconfig\u001b[39;00m \u001b[38;5;28;01mimport\u001b[39;00m config\n\u001b[1;32m---> 11\u001b[0m \u001b[38;5;28;01mfrom\u001b[39;00m \u001b[38;5;21;01mpandas_profiling\u001b[39;00m\u001b[38;5;21;01m.\u001b[39;00m\u001b[38;5;21;01mmodel\u001b[39;00m\u001b[38;5;21;01m.\u001b[39;00m\u001b[38;5;21;01mdescribe\u001b[39;00m \u001b[38;5;28;01mimport\u001b[39;00m describe \u001b[38;5;28;01mas\u001b[39;00m describe_df\n\u001b[0;32m     12\u001b[0m \u001b[38;5;28;01mfrom\u001b[39;00m \u001b[38;5;21;01mpandas_profiling\u001b[39;00m\u001b[38;5;21;01m.\u001b[39;00m\u001b[38;5;21;01mmodel\u001b[39;00m\u001b[38;5;21;01m.\u001b[39;00m\u001b[38;5;21;01mmessages\u001b[39;00m \u001b[38;5;28;01mimport\u001b[39;00m MessageType\n\u001b[0;32m     13\u001b[0m \u001b[38;5;28;01mfrom\u001b[39;00m \u001b[38;5;21;01mpandas_profiling\u001b[39;00m\u001b[38;5;21;01m.\u001b[39;00m\u001b[38;5;21;01mreport\u001b[39;00m \u001b[38;5;28;01mimport\u001b[39;00m get_report_structure\n",
      "File \u001b[1;32m~\\anaconda3\\envs\\gds\\lib\\site-packages\\pandas_profiling\\model\\describe.py:13\u001b[0m\n\u001b[0;32m     11\u001b[0m \u001b[38;5;28;01mfrom\u001b[39;00m \u001b[38;5;21;01mpandas_profiling\u001b[39;00m\u001b[38;5;21;01m.\u001b[39;00m\u001b[38;5;21;01mmodel\u001b[39;00m\u001b[38;5;21;01m.\u001b[39;00m\u001b[38;5;21;01mcorrelations\u001b[39;00m \u001b[38;5;28;01mimport\u001b[39;00m calculate_correlation\n\u001b[0;32m     12\u001b[0m \u001b[38;5;28;01mfrom\u001b[39;00m \u001b[38;5;21;01mpandas_profiling\u001b[39;00m\u001b[38;5;21;01m.\u001b[39;00m\u001b[38;5;21;01mmodel\u001b[39;00m\u001b[38;5;21;01m.\u001b[39;00m\u001b[38;5;21;01msample\u001b[39;00m \u001b[38;5;28;01mimport\u001b[39;00m Sample, get_sample\n\u001b[1;32m---> 13\u001b[0m \u001b[38;5;28;01mfrom\u001b[39;00m \u001b[38;5;21;01mpandas_profiling\u001b[39;00m\u001b[38;5;21;01m.\u001b[39;00m\u001b[38;5;21;01mmodel\u001b[39;00m\u001b[38;5;21;01m.\u001b[39;00m\u001b[38;5;21;01msummary\u001b[39;00m \u001b[38;5;28;01mimport\u001b[39;00m (\n\u001b[0;32m     14\u001b[0m     get_duplicates,\n\u001b[0;32m     15\u001b[0m     get_messages,\n\u001b[0;32m     16\u001b[0m     get_missing_diagrams,\n\u001b[0;32m     17\u001b[0m     get_scatter_matrix,\n\u001b[0;32m     18\u001b[0m     get_series_descriptions,\n\u001b[0;32m     19\u001b[0m     get_table_stats,\n\u001b[0;32m     20\u001b[0m )\n\u001b[0;32m     21\u001b[0m \u001b[38;5;28;01mfrom\u001b[39;00m \u001b[38;5;21;01mpandas_profiling\u001b[39;00m\u001b[38;5;21;01m.\u001b[39;00m\u001b[38;5;21;01mversion\u001b[39;00m \u001b[38;5;28;01mimport\u001b[39;00m __version__\n\u001b[0;32m     24\u001b[0m \u001b[38;5;28;01mdef\u001b[39;00m \u001b[38;5;21mdescribe\u001b[39m(title: \u001b[38;5;28mstr\u001b[39m, df: pd\u001b[38;5;241m.\u001b[39mDataFrame, sample: Optional[\u001b[38;5;28mdict\u001b[39m] \u001b[38;5;241m=\u001b[39m \u001b[38;5;28;01mNone\u001b[39;00m) \u001b[38;5;241m-\u001b[39m\u001b[38;5;241m>\u001b[39m \u001b[38;5;28mdict\u001b[39m:\n",
      "File \u001b[1;32m~\\anaconda3\\envs\\gds\\lib\\site-packages\\pandas_profiling\\model\\summary.py:14\u001b[0m\n\u001b[0;32m     12\u001b[0m \u001b[38;5;28;01mfrom\u001b[39;00m \u001b[38;5;21;01mpandas\u001b[39;00m\u001b[38;5;21;01m.\u001b[39;00m\u001b[38;5;21;01mcore\u001b[39;00m\u001b[38;5;21;01m.\u001b[39;00m\u001b[38;5;21;01marrays\u001b[39;00m\u001b[38;5;21;01m.\u001b[39;00m\u001b[38;5;21;01minteger\u001b[39;00m \u001b[38;5;28;01mimport\u001b[39;00m _IntegerDtype\n\u001b[0;32m     13\u001b[0m \u001b[38;5;28;01mfrom\u001b[39;00m \u001b[38;5;21;01mscipy\u001b[39;00m\u001b[38;5;21;01m.\u001b[39;00m\u001b[38;5;21;01mstats\u001b[39;00m\u001b[38;5;21;01m.\u001b[39;00m\u001b[38;5;21;01mstats\u001b[39;00m \u001b[38;5;28;01mimport\u001b[39;00m chisquare\n\u001b[1;32m---> 14\u001b[0m \u001b[38;5;28;01mfrom\u001b[39;00m \u001b[38;5;21;01mvisions\u001b[39;00m\u001b[38;5;21;01m.\u001b[39;00m\u001b[38;5;21;01mapplication\u001b[39;00m\u001b[38;5;21;01m.\u001b[39;00m\u001b[38;5;21;01msummaries\u001b[39;00m\u001b[38;5;21;01m.\u001b[39;00m\u001b[38;5;21;01mseries\u001b[39;00m \u001b[38;5;28;01mimport\u001b[39;00m (\n\u001b[0;32m     15\u001b[0m     file_summary,\n\u001b[0;32m     16\u001b[0m     image_summary,\n\u001b[0;32m     17\u001b[0m     path_summary,\n\u001b[0;32m     18\u001b[0m     url_summary,\n\u001b[0;32m     19\u001b[0m )\n\u001b[0;32m     20\u001b[0m \u001b[38;5;28;01mfrom\u001b[39;00m \u001b[38;5;21;01mvisions\u001b[39;00m\u001b[38;5;21;01m.\u001b[39;00m\u001b[38;5;21;01mapplication\u001b[39;00m\u001b[38;5;21;01m.\u001b[39;00m\u001b[38;5;21;01msummaries\u001b[39;00m\u001b[38;5;21;01m.\u001b[39;00m\u001b[38;5;21;01mseries\u001b[39;00m\u001b[38;5;21;01m.\u001b[39;00m\u001b[38;5;21;01mtext_summary\u001b[39;00m \u001b[38;5;28;01mimport\u001b[39;00m (\n\u001b[0;32m     21\u001b[0m     length_summary,\n\u001b[0;32m     22\u001b[0m     unicode_summary,\n\u001b[0;32m     23\u001b[0m )\n\u001b[0;32m     25\u001b[0m \u001b[38;5;28;01mfrom\u001b[39;00m \u001b[38;5;21;01mpandas_profiling\u001b[39;00m\u001b[38;5;21;01m.\u001b[39;00m\u001b[38;5;21;01mconfig\u001b[39;00m \u001b[38;5;28;01mimport\u001b[39;00m config \u001b[38;5;28;01mas\u001b[39;00m config\n",
      "File \u001b[1;32m~\\anaconda3\\envs\\gds\\lib\\site-packages\\visions\\__init__.py:3\u001b[0m\n\u001b[0;32m      1\u001b[0m \u001b[38;5;124;03m\"\"\"Core functionality\"\"\"\u001b[39;00m\n\u001b[0;32m      2\u001b[0m \u001b[38;5;28;01mfrom\u001b[39;00m \u001b[38;5;21;01mvisions\u001b[39;00m \u001b[38;5;28;01mimport\u001b[39;00m types, typesets, utils\n\u001b[1;32m----> 3\u001b[0m \u001b[38;5;28;01mfrom\u001b[39;00m \u001b[38;5;21;01mvisions\u001b[39;00m\u001b[38;5;21;01m.\u001b[39;00m\u001b[38;5;21;01mdtypes\u001b[39;00m\u001b[38;5;21;01m.\u001b[39;00m\u001b[38;5;21;01mboolean\u001b[39;00m \u001b[38;5;28;01mimport\u001b[39;00m BoolDtype\n\u001b[0;32m      4\u001b[0m \u001b[38;5;28;01mfrom\u001b[39;00m \u001b[38;5;21;01mvisions\u001b[39;00m\u001b[38;5;21;01m.\u001b[39;00m\u001b[38;5;21;01mfunctional\u001b[39;00m \u001b[38;5;28;01mimport\u001b[39;00m (\n\u001b[0;32m      5\u001b[0m     cast_to_detected,\n\u001b[0;32m      6\u001b[0m     cast_to_inferred,\n\u001b[0;32m      7\u001b[0m     detect_type,\n\u001b[0;32m      8\u001b[0m     infer_type,\n\u001b[0;32m      9\u001b[0m )\n\u001b[0;32m     10\u001b[0m \u001b[38;5;28;01mfrom\u001b[39;00m \u001b[38;5;21;01mvisions\u001b[39;00m\u001b[38;5;21;01m.\u001b[39;00m\u001b[38;5;21;01mtypes\u001b[39;00m \u001b[38;5;28;01mimport\u001b[39;00m \u001b[38;5;241m*\u001b[39m\n",
      "File \u001b[1;32m~\\anaconda3\\envs\\gds\\lib\\site-packages\\visions\\dtypes\\boolean.py:23\u001b[0m\n\u001b[0;32m     12\u001b[0m \u001b[38;5;28;01mfrom\u001b[39;00m \u001b[38;5;21;01mpandas\u001b[39;00m\u001b[38;5;21;01m.\u001b[39;00m\u001b[38;5;21;01mcore\u001b[39;00m\u001b[38;5;21;01m.\u001b[39;00m\u001b[38;5;21;01mdtypes\u001b[39;00m\u001b[38;5;21;01m.\u001b[39;00m\u001b[38;5;21;01mcommon\u001b[39;00m \u001b[38;5;28;01mimport\u001b[39;00m (\n\u001b[0;32m     13\u001b[0m     is_bool_dtype,\n\u001b[0;32m     14\u001b[0m     is_float,\n\u001b[1;32m   (...)\u001b[0m\n\u001b[0;32m     20\u001b[0m     is_scalar,\n\u001b[0;32m     21\u001b[0m )\n\u001b[0;32m     22\u001b[0m \u001b[38;5;28;01mfrom\u001b[39;00m \u001b[38;5;21;01mpandas\u001b[39;00m\u001b[38;5;21;01m.\u001b[39;00m\u001b[38;5;21;01mcore\u001b[39;00m\u001b[38;5;21;01m.\u001b[39;00m\u001b[38;5;21;01mdtypes\u001b[39;00m\u001b[38;5;21;01m.\u001b[39;00m\u001b[38;5;21;01mdtypes\u001b[39;00m \u001b[38;5;28;01mimport\u001b[39;00m register_extension_dtype\n\u001b[1;32m---> 23\u001b[0m \u001b[38;5;28;01mfrom\u001b[39;00m \u001b[38;5;21;01mpandas\u001b[39;00m\u001b[38;5;21;01m.\u001b[39;00m\u001b[38;5;21;01mcore\u001b[39;00m\u001b[38;5;21;01m.\u001b[39;00m\u001b[38;5;21;01mdtypes\u001b[39;00m\u001b[38;5;21;01m.\u001b[39;00m\u001b[38;5;21;01mgeneric\u001b[39;00m \u001b[38;5;28;01mimport\u001b[39;00m ABCIndexClass, ABCSeries\n\u001b[0;32m     24\u001b[0m \u001b[38;5;28;01mfrom\u001b[39;00m \u001b[38;5;21;01mpandas\u001b[39;00m\u001b[38;5;21;01m.\u001b[39;00m\u001b[38;5;21;01mcore\u001b[39;00m\u001b[38;5;21;01m.\u001b[39;00m\u001b[38;5;21;01mdtypes\u001b[39;00m\u001b[38;5;21;01m.\u001b[39;00m\u001b[38;5;21;01mmissing\u001b[39;00m \u001b[38;5;28;01mimport\u001b[39;00m isna, notna\n\u001b[0;32m     25\u001b[0m \u001b[38;5;28;01mfrom\u001b[39;00m \u001b[38;5;21;01mpandas\u001b[39;00m\u001b[38;5;21;01m.\u001b[39;00m\u001b[38;5;21;01mcore\u001b[39;00m\u001b[38;5;21;01m.\u001b[39;00m\u001b[38;5;21;01mtools\u001b[39;00m\u001b[38;5;21;01m.\u001b[39;00m\u001b[38;5;21;01mnumeric\u001b[39;00m \u001b[38;5;28;01mimport\u001b[39;00m to_numeric\n",
      "\u001b[1;31mImportError\u001b[0m: cannot import name 'ABCIndexClass' from 'pandas.core.dtypes.generic' (C:\\Users\\timon\\anaconda3\\envs\\gds\\lib\\site-packages\\pandas\\core\\dtypes\\generic.py)"
     ]
    }
   ],
   "source": [
    "import pandas_profiling as pp"
   ]
  },
  {
   "cell_type": "code",
   "execution_count": 5,
   "id": "1ae77329-9fd8-4e68-a87c-f6fd7a9e0d84",
   "metadata": {},
   "outputs": [
    {
     "name": "stdout",
     "output_type": "stream",
     "text": [
      "Collecting dtale\n",
      "  Downloading dtale-2.8.1-py2.py3-none-any.whl (12.8 MB)\n",
      "     ---------------------------------------- 12.8/12.8 MB 6.2 MB/s eta 0:00:00\n",
      "Collecting itsdangerous\n",
      "  Downloading itsdangerous-2.1.2-py3-none-any.whl (15 kB)\n",
      "Collecting dash-daq\n",
      "  Downloading dash_daq-0.5.0.tar.gz (642 kB)\n",
      "     -------------------------------------- 642.7/642.7 kB 2.9 MB/s eta 0:00:00\n",
      "  Preparing metadata (setup.py): started\n",
      "  Preparing metadata (setup.py): finished with status 'done'\n",
      "Requirement already satisfied: et-xmlfile in c:\\users\\timon\\anaconda3\\envs\\gds\\lib\\site-packages (from dtale) (1.0.1)\n",
      "Collecting kaleido\n",
      "  Downloading kaleido-0.2.1-py2.py3-none-win_amd64.whl (65.9 MB)\n",
      "     ---------------------------------------- 65.9/65.9 MB 1.7 MB/s eta 0:00:00\n",
      "Collecting squarify\n",
      "  Downloading squarify-0.4.3-py3-none-any.whl (4.3 kB)\n",
      "Requirement already satisfied: six in c:\\users\\timon\\anaconda3\\envs\\gds\\lib\\site-packages (from dtale) (1.16.0)\n",
      "Collecting Flask-Compress\n",
      "  Downloading Flask_Compress-1.13-py3-none-any.whl (7.9 kB)\n",
      "Requirement already satisfied: xarray in c:\\users\\timon\\anaconda3\\envs\\gds\\lib\\site-packages (from dtale) (2022.6.0)\n",
      "Collecting plotly>=5.0.0\n",
      "  Downloading plotly-5.10.0-py2.py3-none-any.whl (15.2 MB)\n",
      "     ---------------------------------------- 15.2/15.2 MB 4.2 MB/s eta 0:00:00\n",
      "Requirement already satisfied: xlrd in c:\\users\\timon\\anaconda3\\envs\\gds\\lib\\site-packages (from dtale) (2.0.1)\n",
      "Collecting dash>=2.0.0\n",
      "  Downloading dash-2.6.2-py3-none-any.whl (9.8 MB)\n",
      "     ---------------------------------------- 9.8/9.8 MB 6.8 MB/s eta 0:00:00\n",
      "Requirement already satisfied: networkx in c:\\users\\timon\\anaconda3\\envs\\gds\\lib\\site-packages (from dtale) (2.8.6)\n",
      "Requirement already satisfied: numpy in c:\\users\\timon\\anaconda3\\envs\\gds\\lib\\site-packages (from dtale) (1.22.4)\n",
      "Requirement already satisfied: matplotlib in c:\\users\\timon\\anaconda3\\envs\\gds\\lib\\site-packages (from dtale) (3.5.3)\n",
      "Collecting Flask\n",
      "  Downloading Flask-2.2.2-py3-none-any.whl (101 kB)\n",
      "     -------------------------------------- 101.5/101.5 kB 2.9 MB/s eta 0:00:00\n",
      "Collecting flask-ngrok\n",
      "  Downloading flask_ngrok-0.0.25-py3-none-any.whl (3.1 kB)\n",
      "Collecting dash-colorscales\n",
      "  Downloading dash_colorscales-0.0.4.tar.gz (62 kB)\n",
      "     ---------------------------------------- 62.3/62.3 kB 3.5 MB/s eta 0:00:00\n",
      "  Preparing metadata (setup.py): started\n",
      "  Preparing metadata (setup.py): finished with status 'done'\n",
      "Collecting strsimpy\n",
      "  Downloading strsimpy-0.2.1-py3-none-any.whl (45 kB)\n",
      "     ---------------------------------------- 45.9/45.9 kB 2.2 MB/s eta 0:00:00\n",
      "Requirement already satisfied: pandas in c:\\users\\timon\\anaconda3\\envs\\gds\\lib\\site-packages (from dtale) (1.4.4)\n",
      "Requirement already satisfied: scipy in c:\\users\\timon\\anaconda3\\envs\\gds\\lib\\site-packages (from dtale) (1.9.1)\n",
      "Requirement already satisfied: lz4 in c:\\users\\timon\\anaconda3\\envs\\gds\\lib\\site-packages (from dtale) (4.0.0)\n",
      "Requirement already satisfied: certifi in c:\\users\\timon\\anaconda3\\envs\\gds\\lib\\site-packages (from dtale) (2022.9.24)\n",
      "Requirement already satisfied: statsmodels in c:\\users\\timon\\anaconda3\\envs\\gds\\lib\\site-packages (from dtale) (0.13.2)\n",
      "Requirement already satisfied: scikit-learn in c:\\users\\timon\\anaconda3\\envs\\gds\\lib\\site-packages (from dtale) (1.1.2)\n",
      "Requirement already satisfied: cycler in c:\\users\\timon\\anaconda3\\envs\\gds\\lib\\site-packages (from dtale) (0.11.0)\n",
      "Requirement already satisfied: openpyxl in c:\\users\\timon\\anaconda3\\envs\\gds\\lib\\site-packages (from dtale) (3.0.10)\n",
      "Requirement already satisfied: seaborn in c:\\users\\timon\\anaconda3\\envs\\gds\\lib\\site-packages (from dtale) (0.12.0)\n",
      "Collecting dash-bootstrap-components\n",
      "  Downloading dash_bootstrap_components-1.2.1-py3-none-any.whl (216 kB)\n",
      "     -------------------------------------- 216.1/216.1 kB 4.4 MB/s eta 0:00:00\n",
      "Requirement already satisfied: future>=0.14.0 in c:\\users\\timon\\anaconda3\\envs\\gds\\lib\\site-packages (from dtale) (0.18.2)\n",
      "Requirement already satisfied: missingno<=0.4.2 in c:\\users\\timon\\anaconda3\\envs\\gds\\lib\\site-packages (from dtale) (0.4.2)\n",
      "Requirement already satisfied: requests in c:\\users\\timon\\anaconda3\\envs\\gds\\lib\\site-packages (from dtale) (2.28.1)\n",
      "Collecting dash-html-components==2.0.0\n",
      "  Downloading dash_html_components-2.0.0-py3-none-any.whl (4.1 kB)\n",
      "Collecting dash-table==5.0.0\n",
      "  Downloading dash_table-5.0.0-py3-none-any.whl (3.9 kB)\n",
      "Collecting dash-core-components==2.0.0\n",
      "  Downloading dash_core_components-2.0.0-py3-none-any.whl (3.8 kB)\n",
      "Requirement already satisfied: click>=8.0 in c:\\users\\timon\\anaconda3\\envs\\gds\\lib\\site-packages (from Flask->dtale) (8.1.3)\n",
      "Requirement already satisfied: Jinja2>=3.0 in c:\\users\\timon\\anaconda3\\envs\\gds\\lib\\site-packages (from Flask->dtale) (3.1.2)\n",
      "Collecting Werkzeug>=2.2.2\n",
      "  Downloading Werkzeug-2.2.2-py3-none-any.whl (232 kB)\n",
      "     -------------------------------------- 232.7/232.7 kB 4.8 MB/s eta 0:00:00\n",
      "Requirement already satisfied: importlib-metadata>=3.6.0 in c:\\users\\timon\\anaconda3\\envs\\gds\\lib\\site-packages (from Flask->dtale) (4.11.4)\n",
      "Requirement already satisfied: tenacity>=6.2.0 in c:\\users\\timon\\anaconda3\\envs\\gds\\lib\\site-packages (from plotly>=5.0.0->dtale) (8.0.1)\n",
      "Collecting brotli\n",
      "  Downloading Brotli-1.0.9-cp39-cp39-win_amd64.whl (383 kB)\n",
      "     -------------------------------------- 383.4/383.4 kB 1.1 MB/s eta 0:00:00\n",
      "Requirement already satisfied: fonttools>=4.22.0 in c:\\users\\timon\\anaconda3\\envs\\gds\\lib\\site-packages (from matplotlib->dtale) (4.37.1)\n",
      "Requirement already satisfied: python-dateutil>=2.7 in c:\\users\\timon\\anaconda3\\envs\\gds\\lib\\site-packages (from matplotlib->dtale) (2.8.2)\n",
      "Requirement already satisfied: packaging>=20.0 in c:\\users\\timon\\anaconda3\\envs\\gds\\lib\\site-packages (from matplotlib->dtale) (21.3)\n",
      "Requirement already satisfied: kiwisolver>=1.0.1 in c:\\users\\timon\\anaconda3\\envs\\gds\\lib\\site-packages (from matplotlib->dtale) (1.4.4)\n",
      "Requirement already satisfied: pyparsing>=2.2.1 in c:\\users\\timon\\anaconda3\\envs\\gds\\lib\\site-packages (from matplotlib->dtale) (3.0.9)\n",
      "Requirement already satisfied: pillow>=6.2.0 in c:\\users\\timon\\anaconda3\\envs\\gds\\lib\\site-packages (from matplotlib->dtale) (9.2.0)\n",
      "Requirement already satisfied: pytz>=2020.1 in c:\\users\\timon\\anaconda3\\envs\\gds\\lib\\site-packages (from pandas->dtale) (2022.2.1)\n",
      "Requirement already satisfied: idna<4,>=2.5 in c:\\users\\timon\\anaconda3\\envs\\gds\\lib\\site-packages (from requests->dtale) (3.3)\n",
      "Requirement already satisfied: urllib3<1.27,>=1.21.1 in c:\\users\\timon\\anaconda3\\envs\\gds\\lib\\site-packages (from requests->dtale) (1.26.11)\n",
      "Requirement already satisfied: charset-normalizer<3,>=2 in c:\\users\\timon\\anaconda3\\envs\\gds\\lib\\site-packages (from requests->dtale) (2.1.1)\n",
      "Requirement already satisfied: threadpoolctl>=2.0.0 in c:\\users\\timon\\anaconda3\\envs\\gds\\lib\\site-packages (from scikit-learn->dtale) (3.1.0)\n",
      "Requirement already satisfied: joblib>=1.0.0 in c:\\users\\timon\\anaconda3\\envs\\gds\\lib\\site-packages (from scikit-learn->dtale) (1.1.0)\n",
      "Requirement already satisfied: patsy>=0.5.2 in c:\\users\\timon\\anaconda3\\envs\\gds\\lib\\site-packages (from statsmodels->dtale) (0.5.2)\n",
      "Requirement already satisfied: colorama in c:\\users\\timon\\anaconda3\\envs\\gds\\lib\\site-packages (from click>=8.0->Flask->dtale) (0.4.5)\n",
      "Requirement already satisfied: zipp>=0.5 in c:\\users\\timon\\anaconda3\\envs\\gds\\lib\\site-packages (from importlib-metadata>=3.6.0->Flask->dtale) (3.8.1)\n",
      "Requirement already satisfied: MarkupSafe>=2.0 in c:\\users\\timon\\anaconda3\\envs\\gds\\lib\\site-packages (from Jinja2>=3.0->Flask->dtale) (2.1.1)\n",
      "Building wheels for collected packages: dash-colorscales, dash-daq\n",
      "  Building wheel for dash-colorscales (setup.py): started\n",
      "  Building wheel for dash-colorscales (setup.py): finished with status 'done'\n",
      "  Created wheel for dash-colorscales: filename=dash_colorscales-0.0.4-py3-none-any.whl size=62566 sha256=06be0515ae272a058bdb6b67504fe514e46cf372baf1aa4947e02b2b032ce212\n",
      "  Stored in directory: c:\\users\\timon\\appdata\\local\\pip\\cache\\wheels\\ec\\32\\ec\\dc8a1aa820182edf280a5e26c76fc9493ae29e196735708de2\n",
      "  Building wheel for dash-daq (setup.py): started\n",
      "  Building wheel for dash-daq (setup.py): finished with status 'done'\n",
      "  Created wheel for dash-daq: filename=dash_daq-0.5.0-py3-none-any.whl size=669692 sha256=70ceb37c9d58ae9148faff6b7593efb6ef1dba4ae5112a2b3c5b83678388b0e5\n",
      "  Stored in directory: c:\\users\\timon\\appdata\\local\\pip\\cache\\wheels\\53\\73\\ea\\8a422aab5cab848d88653ed3087c1fa05553c3fbd67fb6ab75\n",
      "Successfully built dash-colorscales dash-daq\n",
      "Installing collected packages: strsimpy, squarify, kaleido, dash-table, dash-html-components, dash-core-components, dash-colorscales, brotli, Werkzeug, plotly, itsdangerous, Flask, flask-ngrok, Flask-Compress, dash, dash-daq, dash-bootstrap-components, dtale\n",
      "Successfully installed Flask-2.2.2 Flask-Compress-1.13 Werkzeug-2.2.2 brotli-1.0.9 dash-2.6.2 dash-bootstrap-components-1.2.1 dash-colorscales-0.0.4 dash-core-components-2.0.0 dash-daq-0.5.0 dash-html-components-2.0.0 dash-table-5.0.0 dtale-2.8.1 flask-ngrok-0.0.25 itsdangerous-2.1.2 kaleido-0.2.1 plotly-5.10.0 squarify-0.4.3 strsimpy-0.2.1\n",
      "Note: you may need to restart the kernel to use updated packages.\n"
     ]
    }
   ],
   "source": [
    "pip install dtale"
   ]
  },
  {
   "cell_type": "markdown",
   "id": "0258f550",
   "metadata": {},
   "source": [
    "# Load, clean and rename data"
   ]
  },
  {
   "cell_type": "markdown",
   "id": "e29dbdbb",
   "metadata": {},
   "source": [
    "## 1. Emergency calls data\n",
    "For explanation of features, <a href=\"https://cusp.tbm.tudelft.nl/courses/epa1316/project/project-02.pdf\"> click here </a>"
   ]
  },
  {
   "cell_type": "code",
   "execution_count": 6,
   "id": "6ce2b5ce",
   "metadata": {},
   "outputs": [],
   "source": [
    "# Load 112_calls_data.csv\n",
    "em_calls = pd.read_csv(\"data/112_calls_data.csv\", sep = \",\")"
   ]
  },
  {
   "cell_type": "code",
   "execution_count": null,
   "id": "85060f86",
   "metadata": {},
   "outputs": [],
   "source": [
    "print('{} different cities'.format(len(em_calls['wplNam'].unique())))\n",
    "print('{} different municipalities'.format(len(em_calls['gemName'].unique())))\n",
    "em_calls.shape"
   ]
  },
  {
   "cell_type": "code",
   "execution_count": null,
   "id": "bc076249",
   "metadata": {},
   "outputs": [],
   "source": [
    "print('For The Hague:')\n",
    "print('\\n{}\\n'.format(th.shape))\n",
    "th = em_calls[em_calls['wplNam']=='Den Haag'] # the hague\n",
    "print('priority\\tcount')\n",
    "for prio in th['pmePrioLevel'].unique():\n",
    "    count = len(th[th['pmePrioLevel']==prio])\n",
    "    print('{}\\t\\t{}'.format(prio, count))\n",
    "\n",
    "th.head(2)"
   ]
  },
  {
   "cell_type": "code",
   "execution_count": 8,
   "id": "1aa9b720-f75e-46b0-b0d9-eee5dc1d567d",
   "metadata": {},
   "outputs": [],
   "source": [
    "import dtale"
   ]
  },
  {
   "cell_type": "code",
   "execution_count": 9,
   "id": "de72ea53-cd34-4ac6-b52c-70aef5c9f869",
   "metadata": {},
   "outputs": [
    {
     "name": "stderr",
     "output_type": "stream",
     "text": [
      "C:\\Users\\timon\\anaconda3\\envs\\gds\\lib\\site-packages\\dtale\\views.py:725: FutureWarning:\n",
      "\n",
      "['pmeStrippedMessage'] did not aggregate successfully. If any error is raised this will raise in a future version of pandas. Drop these columns/ops to avoid this warning.\n",
      "\n"
     ]
    },
    {
     "data": {
      "text/html": [
       "\n",
       "        <iframe\n",
       "            width=\"100%\"\n",
       "            height=\"475\"\n",
       "            src=\"http://Laptop:40000/dtale/iframe/1\"\n",
       "            frameborder=\"0\"\n",
       "            allowfullscreen\n",
       "            \n",
       "        ></iframe>\n",
       "        "
      ],
      "text/plain": [
       "<IPython.lib.display.IFrame at 0x1d4b8f7cbb0>"
      ]
     },
     "metadata": {},
     "output_type": "display_data"
    },
    {
     "data": {
      "text/plain": []
     },
     "execution_count": 9,
     "metadata": {},
     "output_type": "execute_result"
    }
   ],
   "source": [
    "dtale.show(em_calls)"
   ]
  },
  {
   "cell_type": "markdown",
   "id": "fcc2241c",
   "metadata": {},
   "source": [
    "## 2. The Hague demographic data\n",
    "Find dashboard with these variables <a href=\"https://denhaag.incijfers.nl/Jive?workspace_guid=83bb13aa-9f6f-49ab-ba68-f8fb2ffa2e34\"> here </a>. They all refer to households, not persons, except 65 and older."
   ]
  },
  {
   "cell_type": "code",
   "execution_count": null,
   "id": "f2b750ed",
   "metadata": {},
   "outputs": [],
   "source": [
    "# load CBS data per neighborhood\n",
    "data = pd.read_csv(\"data/th_neighborhoods_demographics.csv\", sep = \";\")\n",
    "\n",
    "# drop 'Onbekend'\n",
    "i = data.loc[data['Buurten'] == 'Onbekend'].index\n",
    "data.drop(index=i, inplace=True)\n",
    "\n",
    "# translate column labels\n",
    "dictionary = {'Buurten': 'Neighborhood', \n",
    "        '65 jaar en ouder': '65_older_persons',\n",
    "        \"% 65 jaar en ouder\":'65_older_%',\n",
    "        'Verhouding b.v.o. medische voorzieningen/ totale gebiedsoppervlakte': 'medical_fac_rel_area',\n",
    "        'Verhouding b.v.o. sportvoorzieningen/ totale gebiedsoppervlakte': 'sports_fac_rel_area',\n",
    "        'Verhouding b.v.o. recreatieve voorzieningen/ totale gebiedsoppervlakte': 'leisure_fac_rel_area',\n",
    "        'Gem. besteedbaar gestandaardiseerd part. huishoudens inkomen': 'disposable_income_std',\n",
    "        'Aantal huishoudens': 'households_count',\n",
    "        '% Met migratieachtergrond': 'migration_background_%',\n",
    "        'Gemiddelde achterstandsscore': 'disadvantage_score',\n",
    "        'Totaal doelgroephuishoudens met inkomen tot 130%':'130%_poverty_line_count'}\n",
    "data.rename(columns=dictionary, inplace=True)\n",
    " \n",
    "# set Neighborhood as index\n",
    "data = data.set_index('Neighborhood', drop=True)\n",
    "\n",
    "# make strings numerical\n",
    "data.replace(',', '.', regex=True, inplace=True) # comma -> point\n",
    "data.replace('x', 'NaN', regex=True, inplace=True) # 'x' -> NaN\n",
    "data.replace('-', 'NaN', regex=False, inplace=True) # 'x' -> NaN\n",
    "\n",
    "for i in range(6):\n",
    "    data.iloc[:,i] = data.iloc[:,i].astype(float)\n",
    "\n",
    "# check outcome\n",
    "data.info()\n",
    "data.head(5)"
   ]
  },
  {
   "cell_type": "code",
   "execution_count": null,
   "id": "c411a9d1",
   "metadata": {},
   "outputs": [],
   "source": [
    "test = gpd.GeoDataFrame()\n",
    "test.head()"
   ]
  }
 ],
 "metadata": {
  "kernelspec": {
   "display_name": "Python 3 (ipykernel)",
   "language": "python",
   "name": "python3"
  },
  "language_info": {
   "codemirror_mode": {
    "name": "ipython",
    "version": 3
   },
   "file_extension": ".py",
   "mimetype": "text/x-python",
   "name": "python",
   "nbconvert_exporter": "python",
   "pygments_lexer": "ipython3",
   "version": "3.9.13"
  }
 },
 "nbformat": 4,
 "nbformat_minor": 5
}
