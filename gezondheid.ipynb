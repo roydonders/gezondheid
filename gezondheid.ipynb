{
 "cells": [
  {
   "cell_type": "markdown",
   "id": "f0119f66-a3a8-4369-8936-53f80d740da3",
   "metadata": {},
   "source": [
    "Gezondheid! Groetjes Timon"
   ]
  },
  {
   "cell_type": "code",
   "execution_count": 1,
   "id": "f6550674-eefb-4431-a260-aa621f7cda40",
   "metadata": {},
   "outputs": [
    {
     "name": "stdout",
     "output_type": "stream",
     "text": [
      "hello\n"
     ]
    }
   ],
   "source": [
    "print(\"hello\")"
   ]
  },
  {
   "cell_type": "code",
   "execution_count": null,
   "id": "20fd9f00-bffc-48b1-a2d1-d87a15e517ea",
   "metadata": {},
   "outputs": [],
   "source": []
  }
 ],
 "metadata": {
  "kernelspec": {
   "display_name": "Python 3 (ipykernel)",
   "language": "python",
   "name": "python3"
  },
  "language_info": {
   "codemirror_mode": {
    "name": "ipython",
    "version": 3
   },
   "file_extension": ".py",
   "mimetype": "text/x-python",
   "name": "python",
   "nbconvert_exporter": "python",
   "pygments_lexer": "ipython3",
   "version": "3.9.12"
  }
 },
 "nbformat": 4,
 "nbformat_minor": 5
}
